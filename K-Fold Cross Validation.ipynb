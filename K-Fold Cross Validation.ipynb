{
 "cells": [
  {
   "cell_type": "markdown",
   "metadata": {},
   "source": [
    "# k-Fold Cross-Validation\n",
    "\n",
    "Cross-validation is a resampling procedure used to evaluate machine learning models on a limited data sample.https://machinelearningmastery.com/k-fold-cross-validation/\n",
    "\n",
    "The procedure has a single parameter called k that refers to the number of groups that a given data sample is to be split into. As such, the procedure is often called k-fold cross-validation. When a specific value for k is chosen, it may be used in place of k in the reference to the model, such as k=10 becoming 10-fold cross-validation.\n",
    "\n",
    "Cross-validation is primarily used in applied machine learning to estimate the skill of a machine learning model on unseen data. That is, to use a limited sample in order to estimate how the model is expected to perform in general when used to make predictions on data not used during the training of the model.\n",
    "\n",
    "It is a popular method because it is simple to understand and because it generally results in a less biased or less optimistic estimate of the model skill than other methods, such as a simple train/test split.\n",
    "\n",
    "The general procedure is as follows:\n",
    "\n",
    "1. Shuffle the dataset randomly;\n",
    "2. Split the dataset into k groups;\n",
    " - For each unique group:\n",
    " - Take the group as a hold out or test data set\n",
    " - Take the remaining groups as a training data set\n",
    " - Fit a model on the training set and evaluate it on the test set\n",
    "3. Retain the evaluation score and discard the model;\n",
    "4. Summarize the skill of the model using the sample of model evaluation;\n",
    "\n",
    "\n",
    "Three common tactics for choosing a value for k are as follows:\n",
    "\n",
    "  1. Representative: The value for k is chosen such that each train/test group of data samples is large enough to be statistically representative of the broader dataset.\n",
    "  2. k=10: The value for k is fixed to 10, a value that has been found through experimentation to generally result in a model skill estimate with low bias a modest variance.\n",
    "      - There is a bias-variance trade-off associated with the choice of k in k-fold cross-validation. Typically, given these considerations, one performs k-fold cross-validation using k = 5 or k = 10, as these values have been shown empirically to yield test error rate estimates that suffer neither from excessively high bias nor from very high variance.\n",
    "  3. k=n: The value for k is fixed to n, where n is the size of the dataset to give each test sample an opportunity to be used in the hold out dataset. This approach is called leave-one-out cross-validation.\n",
    "\n",
    "we can create an instance that splits a dataset into 3 folds, shuffles prior to the split 'True', and uses a value of 1 for the pseudorandom number generator.\n",
    "\n",
    "- kfold = KFold(3, True, 1)\n",
    "\n",
    "The commonly used variations are as follows:\n",
    "\n",
    "1. Train/Test Split: Taken to one extreme, k may be set to 2 (not 1) such that a single train/test split is created to evaluate the model.\n",
    "2. LOOCV: Taken to another extreme, k may be set to the total number of observations in the dataset such that each observation is given a chance to be the held out of the dataset. This is called leave-one-out cross-validation, or LOOCV for short.\n",
    "3. Stratified: The splitting of data into folds may be governed by criteria such as ensuring that each fold has the same proportion of observations with a given categorical value, such as the class outcome value. This is called stratified cross-validation.\n",
    "4. Repeated: This is where the k-fold cross-validation procedure is repeated n times, where importantly, the data sample is shuffled prior to each repetition, which results in a different split of the sample.https://machinelearningmastery.com/repeated-k-fold-cross-validation-with-python/\n",
    "5. Nested: This is where k-fold cross-validation is performed within each fold of cross-validation, often to perform hyperparameter tuning during model evaluation. This is called nested cross-validation or double cross-validation."
   ]
  },
  {
   "cell_type": "code",
   "execution_count": 1,
   "metadata": {},
   "outputs": [
    {
     "name": "stdout",
     "output_type": "stream",
     "text": [
      "train: [0.1 0.4 0.5 0.6], test: [0.2 0.3]\n",
      "train: [0.2 0.3 0.4 0.6], test: [0.1 0.5]\n",
      "train: [0.1 0.2 0.3 0.5], test: [0.4 0.6]\n"
     ]
    },
    {
     "name": "stderr",
     "output_type": "stream",
     "text": [
      "C:\\ProgramData\\Anaconda3\\lib\\site-packages\\sklearn\\utils\\validation.py:68: FutureWarning: Pass shuffle=True, random_state=1 as keyword args. From version 0.25 passing these as positional arguments will result in an error\n",
      "  warnings.warn(\"Pass {} as keyword args. From version 0.25 \"\n"
     ]
    }
   ],
   "source": [
    "from numpy import array\n",
    "from sklearn.model_selection import KFold\n",
    "# data sample\n",
    "data = array([0.1, 0.2, 0.3, 0.4, 0.5, 0.6])\n",
    "# prepare cross validation\n",
    "kfold = KFold(3, True, 1)\n",
    "# enumerate splits\n",
    "for train, test in kfold.split(data):\n",
    "    print('train: %s, test: %s' % (data[train], data[test]))"
   ]
  },
  {
   "cell_type": "markdown",
   "metadata": {},
   "source": [
    "The make_classification() function can be used to create a synthetic binary classification dataset. We will configure it to generate 100 samples each with 20 input features, 15 of which contribute to the target variable."
   ]
  },
  {
   "cell_type": "code",
   "execution_count": 6,
   "metadata": {},
   "outputs": [
    {
     "name": "stdout",
     "output_type": "stream",
     "text": [
      "(100, 20) (100,)\n"
     ]
    }
   ],
   "source": [
    "from sklearn.datasets import make_classification\n",
    "# define dataset\n",
    "X, y = make_classification(n_samples=100, n_features=20, n_informative=15, n_redundant=5, random_state=1)\n",
    "# summarize the dataset\n",
    "print(X.shape, y.shape)"
   ]
  },
  {
   "cell_type": "code",
   "execution_count": 17,
   "metadata": {},
   "outputs": [
    {
     "name": "stdout",
     "output_type": "stream",
     "text": [
      "Accuracy: 0.850 (0.128)\n"
     ]
    }
   ],
   "source": [
    "# evaluate a logistic regression model using k-fold cross-validation\n",
    "from numpy import mean\n",
    "from numpy import std\n",
    "from sklearn.datasets import make_classification\n",
    "from sklearn.model_selection import KFold\n",
    "from sklearn.model_selection import cross_val_score\n",
    "from sklearn.linear_model import LogisticRegression\n",
    "# create dataset\n",
    "X, y = make_classification(n_samples=100, n_features=20, n_informative=15, n_redundant=5, random_state=1)\n",
    "# prepare the cross-validation procedure\n",
    "cv = KFold(n_splits=10, random_state=1, shuffle=True)\n",
    "# create model\n",
    "model = LogisticRegression()\n",
    "# evaluate model\n",
    "scores = cross_val_score(model, X, y, scoring='accuracy', cv=cv, n_jobs=-1)\n",
    "# report performance\n",
    "print('Accuracy: %.3f (%.3f)' % (mean(scores), std(scores)))\n"
   ]
  },
  {
   "cell_type": "code",
   "execution_count": 25,
   "metadata": {},
   "outputs": [
    {
     "name": "stdout",
     "output_type": "stream",
     "text": [
      "Ideal: 0.840\n",
      "> folds=2, accuracy=0.740 (0.700,0.780)\n",
      "> folds=3, accuracy=0.749 (0.697,0.824)\n",
      "> folds=4, accuracy=0.790 (0.640,0.920)\n",
      "> folds=5, accuracy=0.810 (0.600,0.950)\n",
      "> folds=6, accuracy=0.820 (0.688,0.941)\n",
      "> folds=7, accuracy=0.799 (0.571,1.000)\n",
      "> folds=8, accuracy=0.811 (0.385,0.923)\n",
      "> folds=9, accuracy=0.829 (0.636,1.000)\n",
      "> folds=10, accuracy=0.850 (0.600,1.000)\n",
      "> folds=11, accuracy=0.829 (0.667,1.000)\n",
      "> folds=12, accuracy=0.785 (0.250,1.000)\n",
      "> folds=13, accuracy=0.839 (0.571,1.000)\n",
      "> folds=14, accuracy=0.807 (0.429,1.000)\n",
      "> folds=15, accuracy=0.821 (0.571,1.000)\n",
      "> folds=16, accuracy=0.827 (0.500,1.000)\n",
      "> folds=17, accuracy=0.816 (0.600,1.000)\n",
      "> folds=18, accuracy=0.831 (0.600,1.000)\n",
      "> folds=19, accuracy=0.826 (0.600,1.000)\n",
      "> folds=20, accuracy=0.830 (0.600,1.000)\n",
      "> folds=21, accuracy=0.814 (0.500,1.000)\n",
      "> folds=22, accuracy=0.820 (0.500,1.000)\n",
      "> folds=23, accuracy=0.802 (0.250,1.000)\n",
      "> folds=24, accuracy=0.804 (0.250,1.000)\n",
      "> folds=25, accuracy=0.810 (0.250,1.000)\n",
      "> folds=26, accuracy=0.804 (0.250,1.000)\n",
      "> folds=27, accuracy=0.818 (0.250,1.000)\n",
      "> folds=28, accuracy=0.821 (0.250,1.000)\n",
      "> folds=29, accuracy=0.822 (0.250,1.000)\n",
      "> folds=30, accuracy=0.822 (0.333,1.000)\n"
     ]
    },
    {
     "data": {
      "image/png": "[encoded data removed]",
      "text/plain": [
       "<Figure size 432x288 with 1 Axes>"
      ]
     },
     "metadata": {
      "needs_background": "light"
     },
     "output_type": "display_data"
    }
   ],
   "source": [
    "# sensitivity analysis of k in k-fold cross-validation\n",
    "from numpy import mean\n",
    "from sklearn.datasets import make_classification\n",
    "from sklearn.model_selection import LeaveOneOut\n",
    "from sklearn.model_selection import KFold\n",
    "from sklearn.model_selection import cross_val_score\n",
    "from sklearn.linear_model import LogisticRegression\n",
    "from matplotlib import pyplot\n",
    "\n",
    "# create the dataset\n",
    "def get_dataset(n_samples=100):\n",
    "    X, y = make_classification(n_samples=n_samples, n_features=20, n_informative=15, n_redundant=5, random_state=1)\n",
    "    return X, y\n",
    "\n",
    "# retrieve the model to be evaluate\n",
    "def get_model():\n",
    "    model = LogisticRegression()\n",
    "    return model\n",
    "\n",
    "# evaluate the model using a given test condition\n",
    "def evaluate_model(cv):\n",
    "# get the dataset\n",
    "    X, y = get_dataset()\n",
    "# get the model\n",
    "    model = get_model()\n",
    "# evaluate the model\n",
    "    scores = cross_val_score(model, X, y, scoring='accuracy', cv=cv, n_jobs=-1)\n",
    "# return scores\n",
    "    return mean(scores), scores.min(), scores.max()\n",
    "\n",
    "# calculate the ideal test condition\n",
    "ideal, _, _ = evaluate_model(LeaveOneOut())\n",
    "print('Ideal: %.3f' % ideal)\n",
    "\n",
    "# define folds to test\n",
    "folds = range(2,31)\n",
    "# record mean and min/max of each set of results\n",
    "means, mins, maxs = list(),list(),list()\n",
    "# evaluate each k value\n",
    "for k in folds:\n",
    "# define the test condition\n",
    "    cv = KFold(n_splits=k, shuffle=True, random_state=1)\n",
    "# evaluate k value\n",
    "    k_mean, k_min, k_max = evaluate_model(cv)\n",
    "# report performance\n",
    "    print('> folds=%d, accuracy=%.3f (%.3f,%.3f)' % (k, k_mean, k_min, k_max))\n",
    "# store mean accuracy\n",
    "    means.append(k_mean)\n",
    "# store min and max relative to the mean\n",
    "    mins.append(k_mean - k_min)\n",
    "    maxs.append(k_max - k_mean)\n",
    "# line plot of k mean values with min/max error bars\n",
    "pyplot.errorbar(folds, means, yerr=[mins, maxs], fmt='o')\n",
    "# plot the ideal case in a separate color\n",
    "pyplot.plot(folds, [ideal for _ in range(len(folds))], color='r')\n",
    "# show the plot\n",
    "pyplot.show()"
   ]
  },
  {
   "cell_type": "markdown",
   "metadata": {},
   "source": [
    "- Running the example first reports the LOOCV, then the mean, min, and max accuracy for each k value that was evaluated."
   ]
  },
  {
   "cell_type": "markdown",
   "metadata": {},
   "source": [
    "- The KFold class can be used directly in order to split up a dataset prior to modeling such that all models will use the same data splits. This is especially helpful if you are working with very large data samples. The use of the same splits across algorithms can have benefits for statistical tests that you may wish to perform on the data later."
   ]
  },
  {
   "cell_type": "code",
   "execution_count": 5,
   "metadata": {},
   "outputs": [
    {
     "name": "stdout",
     "output_type": "stream",
     "text": [
      ">LogisticRegression: ideal=0.840, cv=0.850\n",
      ">RidgeClassifier: ideal=0.830, cv=0.830\n",
      ">SGDClassifier: ideal=0.810, cv=0.740\n",
      ">PassiveAggressiveClassifier: ideal=0.730, cv=0.810\n",
      ">KNeighborsClassifier: ideal=0.760, cv=0.770\n",
      ">DecisionTreeClassifier: ideal=0.710, cv=0.670\n",
      ">ExtraTreeClassifier: ideal=0.650, cv=0.630\n",
      ">LinearSVC: ideal=0.820, cv=0.830\n",
      ">SVC: ideal=0.900, cv=0.880\n",
      ">GaussianNB: ideal=0.730, cv=0.720\n",
      ">AdaBoostClassifier: ideal=0.740, cv=0.740\n",
      ">BaggingClassifier: ideal=0.750, cv=0.730\n",
      ">RandomForestClassifier: ideal=0.810, cv=0.770\n",
      ">ExtraTreesClassifier: ideal=0.840, cv=0.790\n",
      ">GaussianProcessClassifier: ideal=0.790, cv=0.760\n",
      ">GradientBoostingClassifier: ideal=0.820, cv=0.810\n",
      ">LinearDiscriminantAnalysis: ideal=0.830, cv=0.830\n",
      ">QuadraticDiscriminantAnalysis: ideal=0.550, cv=0.690\n",
      "Correlation: 0.810\n"
     ]
    },
    {
     "data": {
      "image/png": "[encoded data removed]",
      "text/plain": [
       "<Figure size 432x288 with 1 Axes>"
      ]
     },
     "metadata": {
      "needs_background": "light"
     },
     "output_type": "display_data"
    }
   ],
   "source": [
    "# correlation between test harness and ideal test condition\n",
    "from numpy import mean\n",
    "from numpy import isnan\n",
    "from numpy import asarray\n",
    "from numpy import polyfit\n",
    "from scipy.stats import pearsonr\n",
    "from matplotlib import pyplot\n",
    "from sklearn.datasets import make_classification\n",
    "from sklearn.model_selection import KFold\n",
    "from sklearn.model_selection import LeaveOneOut\n",
    "from sklearn.model_selection import cross_val_score\n",
    "from sklearn.linear_model import LogisticRegression\n",
    "from sklearn.linear_model import RidgeClassifier\n",
    "from sklearn.linear_model import SGDClassifier\n",
    "from sklearn.linear_model import PassiveAggressiveClassifier\n",
    "from sklearn.neighbors import KNeighborsClassifier\n",
    "from sklearn.tree import DecisionTreeClassifier\n",
    "from sklearn.tree import ExtraTreeClassifier\n",
    "from sklearn.svm import LinearSVC\n",
    "from sklearn.svm import SVC\n",
    "from sklearn.naive_bayes import GaussianNB\n",
    "from sklearn.ensemble import AdaBoostClassifier\n",
    "from sklearn.ensemble import BaggingClassifier\n",
    "from sklearn.ensemble import RandomForestClassifier\n",
    "from sklearn.ensemble import ExtraTreesClassifier\n",
    "from sklearn.gaussian_process import GaussianProcessClassifier\n",
    "from sklearn.ensemble import GradientBoostingClassifier\n",
    "from sklearn.discriminant_analysis import LinearDiscriminantAnalysis\n",
    "from sklearn.discriminant_analysis import QuadraticDiscriminantAnalysis\n",
    " \n",
    "# create the dataset\n",
    "def get_dataset(n_samples=100):\n",
    "\tX, y = make_classification(n_samples=n_samples, n_features=20, n_informative=15, n_redundant=5, random_state=1)\n",
    "\treturn X, y\n",
    " \n",
    "# get a list of models to evaluate\n",
    "def get_models():\n",
    "\tmodels = list()\n",
    "\tmodels.append(LogisticRegression())\n",
    "\tmodels.append(RidgeClassifier())\n",
    "\tmodels.append(SGDClassifier())\n",
    "\tmodels.append(PassiveAggressiveClassifier())\n",
    "\tmodels.append(KNeighborsClassifier())\n",
    "\tmodels.append(DecisionTreeClassifier())\n",
    "\tmodels.append(ExtraTreeClassifier())\n",
    "\tmodels.append(LinearSVC())\n",
    "\tmodels.append(SVC())\n",
    "\tmodels.append(GaussianNB())\n",
    "\tmodels.append(AdaBoostClassifier())\n",
    "\tmodels.append(BaggingClassifier())\n",
    "\tmodels.append(RandomForestClassifier())\n",
    "\tmodels.append(ExtraTreesClassifier())\n",
    "\tmodels.append(GaussianProcessClassifier())\n",
    "\tmodels.append(GradientBoostingClassifier())\n",
    "\tmodels.append(LinearDiscriminantAnalysis())\n",
    "\tmodels.append(QuadraticDiscriminantAnalysis())\n",
    "\treturn models\n",
    " \n",
    "# evaluate the model using a given test condition\n",
    "def evaluate_model(cv, model):\n",
    "\t# get the dataset\n",
    "\tX, y = get_dataset()\n",
    "\t# evaluate the model\n",
    "\tscores = cross_val_score(model, X, y, scoring='accuracy', cv=cv, n_jobs=-1)\n",
    "\t# return scores\n",
    "\treturn mean(scores)\n",
    " \n",
    "# define test conditions\n",
    "ideal_cv = LeaveOneOut()\n",
    "cv = KFold(n_splits=10, shuffle=True, random_state=1)\n",
    "# get the list of models to consider\n",
    "models = get_models()\n",
    "# collect results\n",
    "ideal_results, cv_results = list(), list()\n",
    "# evaluate each model\n",
    "for model in models:\n",
    "\t# evaluate model using each test condition\n",
    "\tcv_mean = evaluate_model(cv, model)\n",
    "\tideal_mean = evaluate_model(ideal_cv, model)\n",
    "\t# check for invalid results\n",
    "\tif isnan(cv_mean) or isnan(ideal_mean):\n",
    "\t\tcontinue\n",
    "\t# store results\n",
    "\tcv_results.append(cv_mean)\n",
    "\tideal_results.append(ideal_mean)\n",
    "\t# summarize progress\n",
    "\tprint('>%s: ideal=%.3f, cv=%.3f' % (type(model).__name__, ideal_mean, cv_mean))\n",
    "# calculate the correlation between each test condition\n",
    "corr, _ = pearsonr(cv_results, ideal_results)\n",
    "print('Correlation: %.3f' % corr)\n",
    "# scatter plot of results\n",
    "pyplot.scatter(cv_results, ideal_results)\n",
    "# plot the line of best fit\n",
    "coeff, bias = polyfit(cv_results, ideal_results, 1)\n",
    "line = coeff * asarray(cv_results) + bias\n",
    "pyplot.plot(cv_results, line, color='r')\n",
    "# label the plot\n",
    "pyplot.title('10-fold CV vs LOOCV Mean Accuracy')\n",
    "pyplot.xlabel('Mean Accuracy (10-fold CV)')\n",
    "pyplot.ylabel('Mean Accuracy (LOOCV)')\n",
    "# show the plot\n",
    "pyplot.show()"
   ]
  },
  {
   "cell_type": "markdown",
   "metadata": {},
   "source": [
    "### Repeated k-fold cross-validation\n",
    "https://machinelearningmastery.com/repeated-k-fold-cross-validation-with-python/\n",
    "\n",
    "Repeated k-fold cross-validation replicates the procedure […] multiple times. For example, if 10-fold cross-validation was repeated five times, 50 different held-out sets would be used to estimate model efficacy."
   ]
  },
  {
   "cell_type": "code",
   "execution_count": 4,
   "metadata": {},
   "outputs": [
    {
     "name": "stdout",
     "output_type": "stream",
     "text": [
      "num_repeated 1 mean=0.8680 standard_error=0.011\n",
      "num_repeated 2 mean=0.8675 standard_error=0.008\n",
      "num_repeated 3 mean=0.8673 standard_error=0.006\n",
      "num_repeated 4 mean=0.8670 standard_error=0.006\n",
      "num_repeated 5 mean=0.8658 standard_error=0.005\n",
      "num_repeated 6 mean=0.8655 standard_error=0.004\n",
      "num_repeated 7 mean=0.8651 standard_error=0.004\n",
      "num_repeated 8 mean=0.8651 standard_error=0.004\n",
      "num_repeated 9 mean=0.8656 standard_error=0.003\n",
      "num_repeated 10 mean=0.8658 standard_error=0.003\n",
      "num_repeated 11 mean=0.8655 standard_error=0.003\n",
      "num_repeated 12 mean=0.8654 standard_error=0.003\n",
      "num_repeated 13 mean=0.8652 standard_error=0.003\n",
      "num_repeated 14 mean=0.8651 standard_error=0.003\n",
      "num_repeated 15 mean=0.8653 standard_error=0.003\n"
     ]
    },
    {
     "data": {
      "image/png": "[encoded data removed]",
      "text/plain": [
       "<Figure size 432x288 with 1 Axes>"
      ]
     },
     "metadata": {
      "needs_background": "light"
     },
     "output_type": "display_data"
    }
   ],
   "source": [
    "# compare the number of repeats for repeated k-fold cross-validation\n",
    "from scipy.stats import sem\n",
    "from numpy import mean\n",
    "from numpy import std\n",
    "from sklearn.datasets import make_classification\n",
    "from sklearn.model_selection import RepeatedKFold\n",
    "from sklearn.model_selection import cross_val_score\n",
    "from sklearn.linear_model import LogisticRegression\n",
    "from matplotlib import pyplot\n",
    " \n",
    "# evaluate a model with a given number of repeats\n",
    "def evaluate_model(X, y, repeats):\n",
    "\t# prepare the cross-validation procedure\n",
    "\tcv = RepeatedKFold(n_splits=10, n_repeats=repeats, random_state=1)\n",
    "\t# create model\n",
    "\tmodel = LogisticRegression()\n",
    "\t# evaluate model\n",
    "\tscores = cross_val_score(model, X, y, scoring='accuracy', cv=cv, n_jobs=-1)\n",
    "\treturn scores\n",
    " \n",
    "# create dataset\n",
    "X, y = make_classification(n_samples=1000, n_features=20, n_informative=15, n_redundant=5, random_state=1)\n",
    "# configurations to test\n",
    "repeats = range(1,16)\n",
    "results = list()\n",
    "for r in repeats:\n",
    "\t# evaluate using a given number of repeats\n",
    "\tscores = evaluate_model(X, y, r)\n",
    "\t# summarize\n",
    "\tprint('num_repeated %d mean=%.4f standard_error=%.3f' % (r, mean(scores), sem(scores)))\n",
    "\t# store\n",
    "\tresults.append(scores)\n",
    "# plot the results\n",
    "pyplot.boxplot(results, labels=[str(r) for r in repeats], showmeans=True)\n",
    "pyplot.title('Box and Whisker Plots of Classification Accuracy vs Repeats for k-Fold Cross-Validation')\n",
    "pyplot.show()"
   ]
  },
  {
   "cell_type": "markdown",
   "metadata": {},
   "source": [
    "1. Running the example reports the mean and standard error classification accuracy using 10-fold cross-validation with different numbers of repeats. \n",
    "2. Looking at the standard error, we can see that it decreases with an increase in the number of repeats and stabilizes with a value around 0.003 at around 9 or 10 repeats, although 5 repeats achieve a standard error of 0.005, half of that achieved with a single repeat.\n",
    "3. A box and whisker plot is created to summarize the distribution of scores for each number of repeats. The orange line indicates the median of the distribution and the green triangle represents the arithmetic mean. If these symbols (values) coincide, it suggests a reasonable symmetric distribution and that the mean may capture the central tendency well. This might provide an additional heuristic for choosing an appropriate number of repeats for your test harness. \n",
    "  - Taking this into consideration, using five repeats with this chosen test harness and algorithm appears to be a good choice."
   ]
  },
  {
   "cell_type": "code",
   "execution_count": null,
   "metadata": {},
   "outputs": [],
   "source": []
  }
 ],
 "metadata": {
  "kernelspec": {
   "display_name": "Python 3",
   "language": "python",
   "name": "python3"
  },
  "language_info": {
   "codemirror_mode": {
    "name": "ipython",
    "version": 3
   },
   "file_extension": ".py",
   "mimetype": "text/x-python",
   "name": "python",
   "nbconvert_exporter": "python",
   "pygments_lexer": "ipython3",
   "version": "3.8.3"
  }
 },
 "nbformat": 4,
 "nbformat_minor": 4
}
